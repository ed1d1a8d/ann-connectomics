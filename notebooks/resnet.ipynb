{
 "cells": [
  {
   "cell_type": "markdown",
   "metadata": {},
   "source": [
    "TODO: Once PyTorch meta tensors are supported for all types of operations, rewrite everything with meta tensors."
   ]
  },
  {
   "cell_type": "markdown",
   "metadata": {},
   "source": [
    "### Load libraries"
   ]
  },
  {
   "cell_type": "code",
   "execution_count": 1,
   "metadata": {},
   "outputs": [],
   "source": [
    "import math\n",
    "import sys\n",
    "from collections import defaultdict\n",
    "\n",
    "import matplotlib.pyplot as plt\n",
    "import numpy as np\n",
    "import torch\n",
    "from torch import nn"
   ]
  },
  {
   "cell_type": "code",
   "execution_count": 2,
   "metadata": {},
   "outputs": [],
   "source": [
    "sys.path.append(\"..\")\n",
    "from src.hook_handler import HookHandler\n",
    "from src import utils"
   ]
  },
  {
   "cell_type": "markdown",
   "metadata": {},
   "source": [
    "### Get model"
   ]
  },
  {
   "cell_type": "code",
   "execution_count": 3,
   "metadata": {},
   "outputs": [
    {
     "name": "stderr",
     "output_type": "stream",
     "text": [
      "Using cache found in /Users/ttw/.cache/torch/hub/pytorch_vision_v0.10.0\n"
     ]
    }
   ],
   "source": [
    "model = torch.hub.load(\n",
    "    \"pytorch/vision:v0.10.0\",\n",
    "    \"resnet50\",\n",
    "    pretrained=False,\n",
    ").to(\"cpu\").eval()"
   ]
  },
  {
   "cell_type": "code",
   "execution_count": 4,
   "metadata": {},
   "outputs": [
    {
     "data": {
      "text/plain": [
       "25557032"
      ]
     },
     "execution_count": 4,
     "metadata": {},
     "output_type": "execute_result"
    }
   ],
   "source": [
    "# Number of parameters\n",
    "sum(p.numel() for p in model.parameters())"
   ]
  },
  {
   "cell_type": "code",
   "execution_count": 5,
   "metadata": {},
   "outputs": [
    {
     "data": {
      "text/plain": [
       "{torch.nn.modules.activation.ReLU,\n",
       " torch.nn.modules.batchnorm.BatchNorm2d,\n",
       " torch.nn.modules.conv.Conv2d,\n",
       " torch.nn.modules.linear.Linear,\n",
       " torch.nn.modules.pooling.AdaptiveAvgPool2d,\n",
       " torch.nn.modules.pooling.MaxPool2d}"
      ]
     },
     "execution_count": 5,
     "metadata": {},
     "output_type": "execute_result"
    }
   ],
   "source": [
    "set(c.__class__ for c in utils.get_flat_children(model))"
   ]
  },
  {
   "cell_type": "markdown",
   "metadata": {},
   "source": [
    "### Count neurons / connections"
   ]
  },
  {
   "cell_type": "code",
   "execution_count": 6,
   "metadata": {},
   "outputs": [],
   "source": [
    "PRE_COUNTS: dict[int, int] = defaultdict(int)  # d[# pre synaptic neurons] -> count\n",
    "POST_COUNTS: dict[int, int] = defaultdict(int)  # d[# of post synaptic neurons] -> count\n",
    "\n",
    "\n",
    "def reset_counts():\n",
    "    global PRE_COUNTS\n",
    "    global POST_COUNTS\n",
    "    PRE_COUNTS = defaultdict(int)\n",
    "    POST_COUNTS = defaultdict(int)\n",
    "\n",
    "\n",
    "def get_area(x: int | tuple[int, ...]) -> int:\n",
    "    if isinstance(x, int):\n",
    "        return x * x\n",
    "    else:\n",
    "        assert len(x) == 2\n",
    "        return x[0] * x[1]\n",
    "\n",
    "\n",
    "def counter_hook(\n",
    "    mod: nn.Module,\n",
    "    inps: tuple[torch.Tensor],\n",
    "    out: torch.Tensor,\n",
    "):\n",
    "    \"\"\"\n",
    "    Doesn't factor in residual connections.\n",
    "    Also ignores edge-effects of convolutions.\n",
    "    \"\"\"\n",
    "\n",
    "    # We only support running on an input of batch size 1\n",
    "    (inp,) = inps\n",
    "    assert inp.shape[0] == out.shape[0] == 1\n",
    "\n",
    "    match mod:\n",
    "        case nn.modules.activation.ReLU():\n",
    "            # ReLU acts independently across tensor entries\n",
    "            # We don't count ReLUs as neurons\n",
    "            pass\n",
    "\n",
    "        case torch.nn.modules.batchnorm.BatchNorm2d():\n",
    "            # BatchNorm acts independently across tensor entries\n",
    "            PRE_COUNTS[1] += out.numel()\n",
    "            POST_COUNTS[1] += inp.numel()\n",
    "\n",
    "        case torch.nn.modules.conv.Conv2d():\n",
    "            receptive_field_sz = get_area(mod.kernel_size)\n",
    "            PRE_COUNTS[receptive_field_sz * inp.shape[1]] += out.numel()\n",
    "\n",
    "            stride_factor = get_area(mod.stride)\n",
    "            POST_COUNTS[\n",
    "                out.shape[1] * utils.ceil_div(receptive_field_sz, stride_factor)\n",
    "            ] += inp.numel()\n",
    "\n",
    "        case torch.nn.modules.linear.Linear():\n",
    "            PRE_COUNTS[inp.shape[-1]] += out.numel()\n",
    "            POST_COUNTS[out.shape[-1]] += inp.numel()\n",
    "\n",
    "        case torch.nn.modules.pooling.AdaptiveAvgPool2d():\n",
    "            # Approximation based on\n",
    "            # https://stackoverflow.com/a/63603993/1337463.\n",
    "            PRE_COUNTS[utils.ceil_div(inp.shape[-1] ** 2, out.shape[-1] ** 2)] += out.numel()\n",
    "            POST_COUNTS[1] += inp.numel()\n",
    "\n",
    "        case torch.nn.modules.pooling.MaxPool2d():\n",
    "            receptive_field_sz = get_area(mod.kernel_size)\n",
    "            PRE_COUNTS[receptive_field_sz] += out.numel()\n",
    "\n",
    "            stride_factor = get_area(mod.stride)\n",
    "            POST_COUNTS[utils.ceil_div(receptive_field_sz, stride_factor)] += inp.numel()\n",
    "\n",
    "        case _:\n",
    "            raise ValueError(mod)\n"
   ]
  },
  {
   "cell_type": "code",
   "execution_count": 7,
   "metadata": {},
   "outputs": [
    {
     "name": "stdout",
     "output_type": "stream",
     "text": [
      "defaultdict(<class 'int'>, {147: 874496, 1: 12296704, 9: 218624, 64: 3718656, 576: 655872, 256: 2695168, 1152: 444416, 128: 1777664, 512: 1128960, 2304: 344064, 1024: 516096, 4608: 86016, 2048: 58344})\n",
      "defaultdict(<class 'int'>, {832: 163968, 1: 12411392, 3: 874496, 64: 1967616, 576: 655872, 256: 2465792, 128: 2207744, 384: 437248, 512: 1777664, 1152: 333312, 768: 222208, 1024: 788480, 2304: 286720, 1536: 114688, 2048: 315392, 4608: 57344, 1000: 2048})\n"
     ]
    }
   ],
   "source": [
    "reset_counts()\n",
    "with HookHandler() as hh:\n",
    "    for c in utils.get_flat_children(model):\n",
    "        hh.add_hook(c, counter_hook)\n",
    "    \n",
    "    x = torch.zeros((1, 3, 224, 244), device=\"cpu\")\n",
    "    model(x)\n",
    "\n",
    "print(PRE_COUNTS)\n",
    "print(POST_COUNTS)"
   ]
  },
  {
   "cell_type": "markdown",
   "metadata": {},
   "source": [
    "### Results"
   ]
  },
  {
   "cell_type": "code",
   "execution_count": 8,
   "metadata": {},
   "outputs": [
    {
     "name": "stdout",
     "output_type": "stream",
     "text": [
      "Estimates of number of neurons:\n",
      "# neurons with pre-synaptic neighbor:  24815080\n",
      "# neurons with post-synaptic neighbor: 25081984\n",
      "\n",
      "Maximum number of pre-synaptic neighbors:  4608\n",
      "Maximum number of post-synaptic neighbors: 4608\n"
     ]
    }
   ],
   "source": [
    "print(\"Estimates of number of neurons:\")\n",
    "print(\"# neurons with pre-synaptic neighbor: \", sum(PRE_COUNTS.values()))\n",
    "print(\"# neurons with post-synaptic neighbor:\", sum(POST_COUNTS.values()))\n",
    "print()\n",
    "print(\"Maximum number of pre-synaptic neighbors: \", max(PRE_COUNTS.keys()))\n",
    "print(\"Maximum number of post-synaptic neighbors:\", max(POST_COUNTS.keys()))"
   ]
  },
  {
   "cell_type": "code",
   "execution_count": 9,
   "metadata": {},
   "outputs": [
    {
     "data": {
      "image/png": "[encoded data removed]",
      "text/plain": [
       "<Figure size 640x480 with 1 Axes>"
      ]
     },
     "metadata": {},
     "output_type": "display_data"
    }
   ],
   "source": [
    "plt.title(\"Distribution of pre-synaptic counts\")\n",
    "vals, weights = zip(*[(k, v) for k,v in PRE_COUNTS.items()])\n",
    "utils.plot_loghist(vals, weights, bins=20)\n",
    "plt.yscale(\"log\");\n",
    "plt.ylabel(\"# of neurons\")\n",
    "plt.xlabel(\"# pre-synaptic neighbors\");"
   ]
  },
  {
   "cell_type": "code",
   "execution_count": 10,
   "metadata": {},
   "outputs": [
    {
     "data": {
      "image/png": "[encoded data removed]",
      "text/plain": [
       "<Figure size 640x480 with 1 Axes>"
      ]
     },
     "metadata": {},
     "output_type": "display_data"
    }
   ],
   "source": [
    "plt.title(\"Distribution of post-synaptic counts\")\n",
    "vals, weights = zip(*[(k, v) for k,v in POST_COUNTS.items()])\n",
    "utils.plot_loghist(vals, weights, bins=20)\n",
    "plt.yscale(\"log\");\n",
    "plt.ylabel(\"# of neurons\")\n",
    "plt.xlabel(\"# post-synaptic neighbors\");"
   ]
  }
 ],
 "metadata": {
  "kernelspec": {
   "display_name": "Python 3.10.4 ('ann-connectomics')",
   "language": "python",
   "name": "python3"
  },
  "language_info": {
   "codemirror_mode": {
    "name": "ipython",
    "version": 3
   },
   "file_extension": ".py",
   "mimetype": "text/x-python",
   "name": "python",
   "nbconvert_exporter": "python",
   "pygments_lexer": "ipython3",
   "version": "3.10.4"
  },
  "orig_nbformat": 4,
  "vscode": {
   "interpreter": {
    "hash": "f3b63eaef5626fc6c331d1cd86088a8dce449677590d8bed1dc1c5b4de2ff32f"
   }
  }
 },
 "nbformat": 4,
 "nbformat_minor": 2
}
